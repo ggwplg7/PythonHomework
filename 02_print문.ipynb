{
  "nbformat": 4,
  "nbformat_minor": 0,
  "metadata": {
    "colab": {
      "provenance": [],
      "authorship_tag": "ABX9TyNISG0fpZJZJ71gV52fNzBV",
      "include_colab_link": true
    },
    "kernelspec": {
      "name": "python3",
      "display_name": "Python 3"
    },
    "language_info": {
      "name": "python"
    }
  },
  "cells": [
    {
      "cell_type": "markdown",
      "metadata": {
        "id": "view-in-github",
        "colab_type": "text"
      },
      "source": [
        "<a href=\"https://colab.research.google.com/github/ggwplg7/PythonHomework/blob/main/02_print%EB%AC%B8.ipynb\" target=\"_parent\"><img src=\"https://colab.research.google.com/assets/colab-badge.svg\" alt=\"Open In Colab\"/></a>"
      ]
    },
    {
      "cell_type": "code",
      "execution_count": 8,
      "metadata": {
        "colab": {
          "base_uri": "https://localhost:8080/"
        },
        "id": "CyMMiU-kVehy",
        "outputId": "4d9f2236-cca4-4686-c902-dbd8134718f8"
      },
      "outputs": [
        {
          "output_type": "stream",
          "name": "stdout",
          "text": [
            "1.(입력한 수식계산)또는 2.(두 수 사이의 합계)를 입력하세요\n",
            "11\n",
            " ***수식을 입력하세요 : 2+2\n",
            "2+2 결과는   4.0입니다. \n"
          ]
        }
      ],
      "source": [
        "number, answer, numStr, num1, num2 =0,0,\"\",0,0\n",
        "\n",
        "print(\"1.(입력한 수식계산)또는 2.(두 수 사이의 합계)를 입력하세요\")\n",
        "\n",
        "number = int(input(1 or 2))\n",
        "if number == 1 :\n",
        "   numStr = input(' ***수식을 입력하세요 : ')\n",
        "   answer = eval(numStr)\n",
        "   print(\"%s 결과는 %5.1f입니다. \"%(numStr, answer))\n",
        "elif number == 2 :\n",
        "    num1 = int(input(\"*** 첫 번째 숫자를 입력하세요 : \"))\n",
        "    num2 = int(input(\"*** 두 번째 숫자를 입력하세요 : \"))\n",
        "    for i in range(num1, num2 + 1) :\n",
        "        answer = answer + i\n",
        "    print(\"%d+...+%d는 %d입니다.\" %(num1,num2,answer))\n",
        "\n",
        "else :\n",
        "    print(\"1또는 2만 입력\")"
      ]
    }
  ]
}