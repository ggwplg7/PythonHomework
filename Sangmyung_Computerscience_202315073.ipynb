{
  "nbformat": 4,
  "nbformat_minor": 0,
  "metadata": {
    "colab": {
      "provenance": [],
      "authorship_tag": "ABX9TyPJWUC5V8Sb3W/F4A/bk8Zf",
      "include_colab_link": true
    },
    "kernelspec": {
      "name": "python3",
      "display_name": "Python 3"
    },
    "language_info": {
      "name": "python"
    }
  },
  "cells": [
    {
      "cell_type": "markdown",
      "metadata": {
        "id": "view-in-github",
        "colab_type": "text"
      },
      "source": [
        "<a href=\"https://colab.research.google.com/github/ggwplg7/PythonHomework/blob/main/Sangmyung_Computerscience_202315073.ipynb\" target=\"_parent\"><img src=\"https://colab.research.google.com/assets/colab-badge.svg\" alt=\"Open In Colab\"/></a>"
      ]
    },
    {
      "cell_type": "code",
      "execution_count": null,
      "metadata": {
        "colab": {
          "base_uri": "https://localhost:8080/"
        },
        "id": "Fz5nfL2cC0_h",
        "outputId": "ae931392-8416-4ae9-daf4-37208ef795b3"
      },
      "outputs": [
        {
          "output_type": "stream",
          "name": "stdout",
          "text": [
            "입력 진수 결정(16/10/8/2) : "
          ]
        }
      ],
      "source": [
        "print(\"입력 진수 결정(16/10/8/2) : \", end=\"\")\n",
        "base = int(input())\n",
        "\n",
        "print(\"값 입력 : \", end=\"\")\n",
        "val = input()\n",
        "\n",
        "if base == 16:\n",
        "    num = int(val, 16)\n",
        "elif base == 10:\n",
        "    num = int(val, 10)\n",
        "elif base == 8:\n",
        "    num = int(val, 8)\n",
        "elif base == 2:\n",
        "    num = int(val, 2)\n",
        "else:\n",
        "    print(\"잘못된 진수입니다.\")\n",
        "    exit()\n",
        "\n",
        "print(\"16진수 ==> \", hex(num))\n",
        "print(\"10진수 ==> \", num)\n",
        "print(\"8진수  ==> \", oct(num))\n",
        "print(\"2진수  ==> \", bin(num))"
      ]
    }
  ]
}